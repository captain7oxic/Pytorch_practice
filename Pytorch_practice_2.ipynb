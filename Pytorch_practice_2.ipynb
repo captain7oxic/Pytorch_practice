{
  "nbformat": 4,
  "nbformat_minor": 0,
  "metadata": {
    "colab": {
      "provenance": [],
      "authorship_tag": "ABX9TyNlLyw5psESN7MXT1gIWnOe",
      "include_colab_link": true
    },
    "kernelspec": {
      "name": "python3",
      "display_name": "Python 3"
    },
    "language_info": {
      "name": "python"
    }
  },
  "cells": [
    {
      "cell_type": "markdown",
      "metadata": {
        "id": "view-in-github",
        "colab_type": "text"
      },
      "source": [
        "<a href=\"https://colab.research.google.com/github/captain7oxic/Pytorch_practice/blob/main/Pytorch_practice_2.ipynb\" target=\"_parent\"><img src=\"https://colab.research.google.com/assets/colab-badge.svg\" alt=\"Open In Colab\"/></a>"
      ]
    },
    {
      "cell_type": "code",
      "execution_count": 2,
      "metadata": {
        "id": "iv6yGD3QCZUy"
      },
      "outputs": [],
      "source": [
        "# Import necessary packages\n",
        "\n",
        "%matplotlib inline\n",
        "%config InlineBackend.figure_format = 'retina'\n",
        "\n",
        "import numpy as np\n",
        "import torch\n",
        "\n",
        "import helper\n",
        "\n",
        "import matplotlib.pyplot as plt"
      ]
    },
    {
      "cell_type": "code",
      "source": [
        "#now we need to import the MNIST data of handwritten images. (28*28 px)\n"
      ],
      "metadata": {
        "id": "y9A3nuZ9DpVC"
      },
      "execution_count": null,
      "outputs": []
    },
    {
      "cell_type": "markdown",
      "source": [
        "# New section"
      ],
      "metadata": {
        "id": "vrbVphJPEW1p"
      }
    },
    {
      "cell_type": "code",
      "source": [
        "# The MNIST datasets are hosted on yann.lecun.com that has moved under CloudFlare protection\n",
        "# Run this script to enable the datasets download\n",
        "# Reference: https://github.com/pytorch/vision/issues/1938\n",
        "\n",
        "from six.moves import urllib\n",
        "opener = urllib.request.build_opener()\n",
        "opener.addheaders = [('User-agent', 'Mozilla/5.0')]\n",
        "urllib.request.install_opener(opener)"
      ],
      "metadata": {
        "id": "joLm6757EoBo"
      },
      "execution_count": 3,
      "outputs": []
    },
    {
      "cell_type": "code",
      "source": [
        "from torchvision import datasets, transforms\n",
        "\n",
        "# Define a transform to normalize the data\n",
        "transform = transforms.Compose([transforms.ToTensor(),\n",
        "                              transforms.Normalize((0.5,), (0.5,)),\n",
        "                              ])\n",
        "\n",
        "# Download and load the training data\n",
        "trainset = datasets.MNIST('~/.pytorch/MNIST_data/', download=True, train=True, transform=transform)\n",
        "trainloader = torch.utils.data.DataLoader(trainset, batch_size=64, shuffle=True)"
      ],
      "metadata": {
        "colab": {
          "base_uri": "https://localhost:8080/"
        },
        "id": "W_kyZI0fEpEt",
        "outputId": "4ad183fc-0861-4cf2-da06-ac23c9d6848a"
      },
      "execution_count": 4,
      "outputs": [
        {
          "output_type": "stream",
          "name": "stdout",
          "text": [
            "Downloading http://yann.lecun.com/exdb/mnist/train-images-idx3-ubyte.gz\n",
            "Downloading http://yann.lecun.com/exdb/mnist/train-images-idx3-ubyte.gz to /root/.pytorch/MNIST_data/MNIST/raw/train-images-idx3-ubyte.gz\n"
          ]
        },
        {
          "output_type": "stream",
          "name": "stderr",
          "text": [
            "100%|██████████| 9912422/9912422 [00:00<00:00, 419114217.32it/s]"
          ]
        },
        {
          "output_type": "stream",
          "name": "stdout",
          "text": [
            "Extracting /root/.pytorch/MNIST_data/MNIST/raw/train-images-idx3-ubyte.gz to /root/.pytorch/MNIST_data/MNIST/raw\n"
          ]
        },
        {
          "output_type": "stream",
          "name": "stderr",
          "text": [
            "\n"
          ]
        },
        {
          "output_type": "stream",
          "name": "stdout",
          "text": [
            "\n",
            "Downloading http://yann.lecun.com/exdb/mnist/train-labels-idx1-ubyte.gz\n",
            "Downloading http://yann.lecun.com/exdb/mnist/train-labels-idx1-ubyte.gz to /root/.pytorch/MNIST_data/MNIST/raw/train-labels-idx1-ubyte.gz\n"
          ]
        },
        {
          "output_type": "stream",
          "name": "stderr",
          "text": [
            "100%|██████████| 28881/28881 [00:00<00:00, 127109857.11it/s]\n"
          ]
        },
        {
          "output_type": "stream",
          "name": "stdout",
          "text": [
            "Extracting /root/.pytorch/MNIST_data/MNIST/raw/train-labels-idx1-ubyte.gz to /root/.pytorch/MNIST_data/MNIST/raw\n",
            "\n",
            "Downloading http://yann.lecun.com/exdb/mnist/t10k-images-idx3-ubyte.gz\n",
            "Downloading http://yann.lecun.com/exdb/mnist/t10k-images-idx3-ubyte.gz to /root/.pytorch/MNIST_data/MNIST/raw/t10k-images-idx3-ubyte.gz\n"
          ]
        },
        {
          "output_type": "stream",
          "name": "stderr",
          "text": [
            "100%|██████████| 1648877/1648877 [00:00<00:00, 142109304.17it/s]\n"
          ]
        },
        {
          "output_type": "stream",
          "name": "stdout",
          "text": [
            "Extracting /root/.pytorch/MNIST_data/MNIST/raw/t10k-images-idx3-ubyte.gz to /root/.pytorch/MNIST_data/MNIST/raw\n",
            "\n",
            "Downloading http://yann.lecun.com/exdb/mnist/t10k-labels-idx1-ubyte.gz\n",
            "Downloading http://yann.lecun.com/exdb/mnist/t10k-labels-idx1-ubyte.gz to /root/.pytorch/MNIST_data/MNIST/raw/t10k-labels-idx1-ubyte.gz\n"
          ]
        },
        {
          "output_type": "stream",
          "name": "stderr",
          "text": [
            "100%|██████████| 4542/4542 [00:00<00:00, 17255913.74it/s]"
          ]
        },
        {
          "output_type": "stream",
          "name": "stdout",
          "text": [
            "Extracting /root/.pytorch/MNIST_data/MNIST/raw/t10k-labels-idx1-ubyte.gz to /root/.pytorch/MNIST_data/MNIST/raw\n",
            "\n"
          ]
        },
        {
          "output_type": "stream",
          "name": "stderr",
          "text": [
            "\n"
          ]
        }
      ]
    },
    {
      "cell_type": "markdown",
      "source": [
        "Here Batch size is the number of images that are going to be fed to NN for one iteration of training, and shuffle equals true so that the dataset is shuffled at each epoch or basically when the Trainloader is called or  is hit.\n",
        "\n",
        "Dataloader & Dataset - pytorch primitive\n",
        "\n",
        "Dataset stores the samples and their corresponding labels, and DataLoader wraps an iterable around the Dataset to enable easy access to the samples.\n",
        "\n",
        "Transforms are common image transformations available in the torchvision.transforms module. They can be chained together using Compose."
      ],
      "metadata": {
        "id": "0dFmGtsRFvoK"
      }
    },
    {
      "cell_type": "code",
      "source": [
        "# now we will try to see some images in the dataset , its looks lame in 2023 to see images through code when your days are spent on Instagram, where just a swipe does it for you , but trust me it has a different feeling altogether.\n",
        "\n",
        "dataiter = iter(trainloader)\n",
        "images, labels = next(dataiter)\n",
        "print(type(images))\n",
        "print(images.shape)\n",
        "print(labels.shape)\n",
        "# This is what one of the images looks like.\n",
        "\n",
        "plt.imshow(images[1].numpy().squeeze(), cmap='Greys_r');"
      ],
      "metadata": {
        "colab": {
          "base_uri": "https://localhost:8080/",
          "height": 482
        },
        "id": "3IHdV5kLFqf4",
        "outputId": "1422362e-4f9b-45f5-958b-ec461848841b"
      },
      "execution_count": 6,
      "outputs": [
        {
          "output_type": "stream",
          "name": "stdout",
          "text": [
            "<class 'torch.Tensor'>\n",
            "torch.Size([64, 1, 28, 28])\n",
            "torch.Size([64])\n"
          ]
        },
        {
          "output_type": "display_data",
          "data": {
            "text/plain": [
              "<Figure size 640x480 with 1 Axes>"
            ],
            "image/png": "[encoded data removed]"
          },
          "metadata": {
            "image/png": {
              "width": 417,
              "height": 413
            }
          }
        }
      ]
    },
    {
      "cell_type": "code",
      "source": [
        "images[1].numpy() # this is what the image looks in the database"
      ],
      "metadata": {
        "colab": {
          "base_uri": "https://localhost:8080/"
        },
        "id": "vZ_FGjOZImp5",
        "outputId": "3edfae5e-3202-44c4-c2c0-3130070b66e2"
      },
      "execution_count": 12,
      "outputs": [
        {
          "output_type": "execute_result",
          "data": {
            "text/plain": [
              "array([[[-1.        , -1.        , -1.        , -1.        ,\n",
              "         -1.        , -1.        , -1.        , -1.        ,\n",
              "         -1.        , -1.        , -1.        , -1.        ,\n",
              "         -1.        , -1.        , -1.        , -1.        ,\n",
              "         -1.        , -1.        , -1.        , -1.        ,\n",
              "         -1.        , -1.        , -1.        , -1.        ,\n",
              "         -1.        , -1.        , -1.        , -1.        ],\n",
              "        [-1.        , -1.        , -1.        , -1.        ,\n",
              "         -1.        , -1.        , -1.        , -1.        ,\n",
              "         -1.        , -1.        , -1.        , -1.        ,\n",
              "         -1.        , -1.        , -1.        , -1.        ,\n",
              "         -1.        , -1.        , -1.        , -1.        ,\n",
              "         -1.        , -1.        , -1.        , -1.        ,\n",
              "         -1.        , -1.        , -1.        , -1.        ],\n",
              "        [-1.        , -1.        , -1.        , -1.        ,\n",
              "         -1.        , -1.        , -1.        , -1.        ,\n",
              "         -1.        , -1.        , -1.        , -1.        ,\n",
              "         -1.        , -1.        , -1.        , -1.        ,\n",
              "         -1.        , -1.        , -1.        , -1.        ,\n",
              "         -1.        , -1.        , -1.        , -1.        ,\n",
              "         -1.        , -1.        , -1.        , -1.        ],\n",
              "        [-1.        , -1.        , -1.        , -1.        ,\n",
              "         -1.        , -1.        , -1.        , -1.        ,\n",
              "         -1.        , -1.        , -1.        , -1.        ,\n",
              "         -1.        , -1.        , -1.        , -1.        ,\n",
              "         -1.        , -1.        , -1.        , -1.        ,\n",
              "         -1.        , -1.        , -1.        , -1.        ,\n",
              "         -1.        , -1.        , -1.        , -1.        ],\n",
              "        [-1.        , -1.        , -1.        , -1.        ,\n",
              "         -1.        , -1.        , -1.        , -1.        ,\n",
              "         -1.        , -1.        , -1.        , -1.        ,\n",
              "         -1.        , -1.        , -1.        , -1.        ,\n",
              "         -0.44313723,  0.99215686,  1.        ,  0.99215686,\n",
              "          0.99215686, -0.3333333 , -0.9607843 , -1.        ,\n",
              "         -1.        , -1.        , -1.        , -1.        ],\n",
              "        [-1.        , -1.        , -1.        , -1.        ,\n",
              "         -1.        , -1.        , -1.        , -1.        ,\n",
              "         -1.        , -1.        , -1.        , -1.        ,\n",
              "         -1.        , -0.6627451 , -0.6313726 , -0.6313726 ,\n",
              "         -0.18431371,  0.9764706 ,  0.9764706 ,  0.9764706 ,\n",
              "          0.9764706 ,  0.9764706 , -0.3490196 , -0.96862745,\n",
              "         -1.        , -1.        , -1.        , -1.        ],\n",
              "        [-1.        , -1.        , -1.        , -1.        ,\n",
              "         -1.        , -1.        , -1.        , -1.        ,\n",
              "         -1.        , -1.        , -1.        , -1.        ,\n",
              "         -0.54509807,  0.85882354,  0.99215686,  0.9764706 ,\n",
              "          0.9764706 ,  0.9764706 ,  0.9764706 ,  0.9764706 ,\n",
              "          0.9764706 ,  0.9764706 ,  0.9764706 , -0.8352941 ,\n",
              "         -1.        , -1.        , -1.        , -1.        ],\n",
              "        [-1.        , -1.        , -1.        , -1.        ,\n",
              "         -1.        , -1.        , -1.        , -1.        ,\n",
              "         -1.        , -1.        , -1.        , -1.        ,\n",
              "          0.6313726 ,  0.9764706 ,  0.99215686,  0.9764706 ,\n",
              "          0.9764706 ,  0.9764706 ,  0.9764706 ,  0.9764706 ,\n",
              "          0.9764706 ,  0.9764706 ,  0.9764706 , -0.8352941 ,\n",
              "         -1.        , -1.        , -1.        , -1.        ],\n",
              "        [-1.        , -1.        , -1.        , -1.        ,\n",
              "         -1.        , -1.        , -1.        , -1.        ,\n",
              "         -1.        , -1.        , -1.        , -0.32549018,\n",
              "          0.7882353 ,  0.9764706 ,  0.99215686,  0.9764706 ,\n",
              "          0.9764706 ,  0.64705884,  0.48235297,  0.9764706 ,\n",
              "          0.9764706 ,  0.9764706 ,  0.9764706 , -0.8352941 ,\n",
              "         -1.        , -1.        , -1.        , -1.        ],\n",
              "        [-1.        , -1.        , -1.        , -1.        ,\n",
              "         -1.        , -1.        , -1.        , -1.        ,\n",
              "         -1.        , -1.        , -1.        ,  0.45098042,\n",
              "          0.9764706 ,  0.9764706 ,  0.8980392 , -0.10588235,\n",
              "         -0.10588235, -0.4352941 , -0.58431375,  0.4901961 ,\n",
              "          0.9764706 ,  0.9764706 ,  0.9764706 , -0.8352941 ,\n",
              "         -1.        , -1.        , -1.        , -1.        ],\n",
              "        [-1.        , -1.        , -1.        , -1.        ,\n",
              "         -1.        , -1.        , -1.        , -1.        ,\n",
              "         -1.        , -0.29411763,  0.27058828,  0.7882353 ,\n",
              "          0.9764706 ,  0.9764706 ,  0.8117647 , -1.        ,\n",
              "         -1.        , -1.        , -1.        ,  0.09019613,\n",
              "          0.9764706 ,  0.9764706 ,  0.9764706 , -0.8352941 ,\n",
              "         -1.        , -1.        , -1.        , -1.        ],\n",
              "        [-1.        , -1.        , -1.        , -1.        ,\n",
              "         -1.        , -1.        , -1.        , -1.        ,\n",
              "         -0.32549018,  0.7411765 ,  0.9764706 ,  0.9764706 ,\n",
              "          0.9764706 , -0.3490196 , -0.5137255 , -1.        ,\n",
              "         -1.        , -1.        , -1.        ,  0.09019613,\n",
              "          0.9764706 ,  0.9764706 ,  0.9764706 , -0.8352941 ,\n",
              "         -1.        , -1.        , -1.        , -1.        ],\n",
              "        [-1.        , -1.        , -1.        , -1.        ,\n",
              "         -1.        , -1.        , -1.        , -0.3960784 ,\n",
              "          0.7882353 ,  0.9764706 ,  0.9764706 ,  0.9764706 ,\n",
              "         -0.36470586, -0.96862745, -1.        , -1.        ,\n",
              "         -1.        , -1.        , -0.24705881,  0.81960785,\n",
              "          0.9764706 ,  0.9764706 ,  0.9764706 , -0.8352941 ,\n",
              "         -1.        , -1.        , -1.        , -1.        ],\n",
              "        [-1.        , -1.        , -1.        , -1.        ,\n",
              "         -1.        , -1.        , -1.        , -0.27058822,\n",
              "          0.9764706 ,  0.9764706 ,  0.9764706 ,  0.9764706 ,\n",
              "         -0.64705884, -1.        , -1.        , -1.        ,\n",
              "         -1.        , -1.        , -0.09019607,  0.9764706 ,\n",
              "          0.9764706 ,  0.9764706 ,  0.9764706 , -0.8352941 ,\n",
              "         -1.        , -1.        , -1.        , -1.        ],\n",
              "        [-1.        , -1.        , -1.        , -1.        ,\n",
              "         -1.        , -0.9607843 , -0.31764704,  0.99215686,\n",
              "          0.99215686,  0.99215686,  0.88235295, -0.5137255 ,\n",
              "         -1.        , -1.        , -1.        , -1.        ,\n",
              "         -1.        , -0.26274508,  1.        ,  0.99215686,\n",
              "          0.99215686,  0.99215686,  0.84313726, -0.84313726,\n",
              "         -1.        , -1.        , -1.        , -1.        ],\n",
              "        [-1.        , -1.        , -1.        , -1.        ,\n",
              "         -1.        , -0.6313726 ,  0.9764706 ,  0.9764706 ,\n",
              "          0.9764706 ,  0.78039217, -0.41960782, -1.        ,\n",
              "         -1.        , -1.        , -1.        , -1.        ,\n",
              "         -0.8980392 , -0.03529412,  0.9764706 ,  0.9764706 ,\n",
              "          0.9764706 ,  0.9764706 , -0.64705884, -1.        ,\n",
              "         -1.        , -1.        , -1.        , -1.        ],\n",
              "        [-1.        , -1.        , -1.        , -1.        ,\n",
              "         -0.94509804, -0.18431371,  0.9764706 ,  0.9764706 ,\n",
              "          0.7254902 , -0.3490196 , -1.        , -1.        ,\n",
              "         -1.        , -1.        , -1.        , -1.        ,\n",
              "         -0.45098037,  0.9764706 ,  0.9764706 ,  0.9764706 ,\n",
              "          0.9764706 ,  0.5764706 , -0.7490196 , -1.        ,\n",
              "         -1.        , -1.        , -1.        , -1.        ],\n",
              "        [-1.        , -1.        , -1.        , -1.        ,\n",
              "         -0.14509803,  0.9764706 ,  0.9764706 ,  0.9764706 ,\n",
              "          0.06666672, -1.        , -1.        , -1.        ,\n",
              "         -1.        , -1.        , -0.92941177, -0.27058822,\n",
              "          0.06666672,  0.9764706 ,  0.9764706 ,  0.9764706 ,\n",
              "          0.5137255 , -0.6627451 , -1.        , -1.        ,\n",
              "         -1.        , -1.        , -1.        , -1.        ],\n",
              "        [-1.        , -1.        , -1.        , -1.        ,\n",
              "          0.99215686,  0.9764706 ,  0.9764706 ,  0.9764706 ,\n",
              "          0.06666672, -1.        , -1.        , -1.        ,\n",
              "         -0.24705881, -0.09019607,  0.01176476,  0.9764706 ,\n",
              "          0.9764706 ,  0.9764706 ,  0.9764706 ,  0.9764706 ,\n",
              "         -0.2862745 , -1.        , -1.        , -1.        ,\n",
              "         -1.        , -1.        , -1.        , -1.        ],\n",
              "        [-1.        , -1.        , -1.        , -1.        ,\n",
              "          0.99215686,  0.9764706 ,  0.9764706 ,  0.9764706 ,\n",
              "          0.06666672, -1.        , -0.29411763,  0.09019613,\n",
              "          0.81960785,  0.9764706 ,  0.99215686,  0.9764706 ,\n",
              "          0.9764706 ,  0.9764706 ,  0.9764706 ,  0.3803922 ,\n",
              "         -0.6784314 , -1.        , -1.        , -1.        ,\n",
              "         -1.        , -1.        , -1.        , -1.        ],\n",
              "        [-1.        , -1.        , -1.        , -1.        ,\n",
              "          0.99215686,  0.9764706 ,  0.9764706 ,  0.9764706 ,\n",
              "          0.654902  ,  0.27058828,  0.7254902 ,  0.9764706 ,\n",
              "          0.9764706 ,  0.9764706 ,  0.99215686,  0.9764706 ,\n",
              "          0.9764706 ,  0.5137255 , -0.2862745 , -0.6784314 ,\n",
              "         -1.        , -1.        , -1.        , -1.        ,\n",
              "         -1.        , -1.        , -1.        , -1.        ],\n",
              "        [-1.        , -1.        , -1.        , -1.        ,\n",
              "          0.99215686,  0.9764706 ,  0.9764706 ,  0.9764706 ,\n",
              "          0.9764706 ,  0.9764706 ,  0.9764706 ,  0.9764706 ,\n",
              "          0.9764706 ,  0.9764706 ,  0.99215686,  0.9764706 ,\n",
              "          0.9764706 ,  0.24705887, -1.        , -1.        ,\n",
              "         -1.        , -1.        , -1.        , -1.        ,\n",
              "         -1.        , -1.        , -1.        , -1.        ],\n",
              "        [-1.        , -1.        , -1.        , -1.        ,\n",
              "         -0.4980392 ,  0.9764706 ,  0.9764706 ,  0.9764706 ,\n",
              "          0.9764706 ,  0.9764706 ,  0.9764706 ,  0.9764706 ,\n",
              "          0.9764706 ,  0.9764706 ,  0.84313726, -0.64705884,\n",
              "         -0.64705884, -0.78039217, -1.        , -1.        ,\n",
              "         -1.        , -1.        , -1.        , -1.        ,\n",
              "         -1.        , -1.        , -1.        , -1.        ],\n",
              "        [-1.        , -1.        , -1.        , -1.        ,\n",
              "         -0.9843137 , -0.8352941 , -0.3333333 ,  0.9764706 ,\n",
              "          0.9764706 ,  0.9764706 ,  0.9764706 ,  0.9764706 ,\n",
              "          0.9764706 ,  0.9764706 , -0.84313726, -1.        ,\n",
              "         -1.        , -1.        , -1.        , -1.        ,\n",
              "         -1.        , -1.        , -1.        , -1.        ,\n",
              "         -1.        , -1.        , -1.        , -1.        ],\n",
              "        [-1.        , -1.        , -1.        , -1.        ,\n",
              "         -1.        , -1.        , -1.        , -1.        ,\n",
              "         -1.        , -1.        , -1.        , -1.        ,\n",
              "         -1.        , -1.        , -1.        , -1.        ,\n",
              "         -1.        , -1.        , -1.        , -1.        ,\n",
              "         -1.        , -1.        , -1.        , -1.        ,\n",
              "         -1.        , -1.        , -1.        , -1.        ],\n",
              "        [-1.        , -1.        , -1.        , -1.        ,\n",
              "         -1.        , -1.        , -1.        , -1.        ,\n",
              "         -1.        , -1.        , -1.        , -1.        ,\n",
              "         -1.        , -1.        , -1.        , -1.        ,\n",
              "         -1.        , -1.        , -1.        , -1.        ,\n",
              "         -1.        , -1.        , -1.        , -1.        ,\n",
              "         -1.        , -1.        , -1.        , -1.        ],\n",
              "        [-1.        , -1.        , -1.        , -1.        ,\n",
              "         -1.        , -1.        , -1.        , -1.        ,\n",
              "         -1.        , -1.        , -1.        , -1.        ,\n",
              "         -1.        , -1.        , -1.        , -1.        ,\n",
              "         -1.        , -1.        , -1.        , -1.        ,\n",
              "         -1.        , -1.        , -1.        , -1.        ,\n",
              "         -1.        , -1.        , -1.        , -1.        ],\n",
              "        [-1.        , -1.        , -1.        , -1.        ,\n",
              "         -1.        , -1.        , -1.        , -1.        ,\n",
              "         -1.        , -1.        , -1.        , -1.        ,\n",
              "         -1.        , -1.        , -1.        , -1.        ,\n",
              "         -1.        , -1.        , -1.        , -1.        ,\n",
              "         -1.        , -1.        , -1.        , -1.        ,\n",
              "         -1.        , -1.        , -1.        , -1.        ]]],\n",
              "      dtype=float32)"
            ]
          },
          "metadata": {},
          "execution_count": 12
        }
      ]
    },
    {
      "cell_type": "markdown",
      "source": [
        "Now we need to flatten the images tensor. Why  ?\n",
        "Well all the input layers and hidden layers take the input in form of a one dimensional tensor , but our images tensor is a 28*28 2D tensor.\n",
        "So we will flat it out to make a vector of [64,784].\n",
        "\n",
        "In the same fashion our output will not be a single node but 10 node for all possible digits.\n",
        "\n",
        "Flattening is a process in which we reduce the dimensionality of a vector/tensor.\n",
        "ex -\n",
        "\n",
        "[[2,3][4,5]] == [2,3,4,5]\n",
        "\n",
        "\n",
        "\n"
      ],
      "metadata": {
        "id": "4KPHNQRAQUEz"
      }
    },
    {
      "cell_type": "code",
      "source": [
        "#flatten the images\n",
        "\n",
        "input = images.view(images.shape[0],-1)\n",
        "\n",
        "#1st layer\n",
        "\n",
        "W1 = torch.randn(784,256)\n",
        "B1 = torch.randn(1,256) #implying 256 nodes in hidden layer\n",
        "\n",
        "#2nd layer : output layer\n",
        "\n",
        "W2 = torch.randn(256,10)\n",
        "B2  =  torch.randn(10)\n",
        "\n",
        "#activation\n",
        "def activation(x):\n",
        "    return 1/(1+torch.exp(-x))\n",
        "\n",
        "h = activation(torch.mm(input,W1)+B1)\n",
        "output  = activation(torch.mm(h,W2)+B2)\n"
      ],
      "metadata": {
        "id": "zPteEi5DQVW6"
      },
      "execution_count": 13,
      "outputs": []
    },
    {
      "cell_type": "markdown",
      "source": [
        "-1: This is a placeholder value used in the view() method to automatically infer the size of the second dimension based on the size of the tensor and the specified size of the first dimension. By using -1, you're telling PyTorch (assuming this code is using PyTorch) to compute the appropriate size of the second dimension based on the number of elements in the tensor."
      ],
      "metadata": {
        "id": "raYq5hzOWrYm"
      }
    },
    {
      "cell_type": "code",
      "source": [],
      "metadata": {
        "id": "lljdCiemaPMh"
      },
      "execution_count": null,
      "outputs": []
    },
    {
      "cell_type": "markdown",
      "source": [
        " we need a softmax function at output layer to claculate the probabilities among 10 classes and choosing the maximum, Note this model is just a untrained model, and has all the probablities same, so let us create one."
      ],
      "metadata": {
        "id": "UTCJB_xgaNiy"
      }
    },
    {
      "cell_type": "code",
      "source": [
        "def softmax(x):\n",
        "  #dim =1 for calculating around the 2nd dimension,(-1) in the view to choose appropriate rows from previous step as the number is unspecified\n",
        "  return torch.exp(x)/torch.sum(torch.exp(x),dim =1).view(-1,1)"
      ],
      "metadata": {
        "id": "ZtIBjZFzRist"
      },
      "execution_count": 15,
      "outputs": []
    },
    {
      "cell_type": "code",
      "source": [
        "probablities = softmax(output)"
      ],
      "metadata": {
        "id": "A9PrmtPoW14C"
      },
      "execution_count": 16,
      "outputs": []
    },
    {
      "cell_type": "code",
      "source": [
        "print(probablities.sum(dim=1))\n",
        "#since all the probabilities sum up to 1 that is the key identifier that our softmax is working correctly."
      ],
      "metadata": {
        "colab": {
          "base_uri": "https://localhost:8080/"
        },
        "id": "UyAdA6WcbTz0",
        "outputId": "8ef54853-3caf-4e72-839d-c6ef8a78e638"
      },
      "execution_count": 22,
      "outputs": [
        {
          "output_type": "stream",
          "name": "stdout",
          "text": [
            "tensor([1.0000, 1.0000, 1.0000, 1.0000, 1.0000, 1.0000, 1.0000, 1.0000, 1.0000,\n",
            "        1.0000, 1.0000, 1.0000, 1.0000, 1.0000, 1.0000, 1.0000, 1.0000, 1.0000,\n",
            "        1.0000, 1.0000, 1.0000, 1.0000, 1.0000, 1.0000, 1.0000, 1.0000, 1.0000,\n",
            "        1.0000, 1.0000, 1.0000, 1.0000, 1.0000, 1.0000, 1.0000, 1.0000, 1.0000,\n",
            "        1.0000, 1.0000, 1.0000, 1.0000, 1.0000, 1.0000, 1.0000, 1.0000, 1.0000,\n",
            "        1.0000, 1.0000, 1.0000, 1.0000, 1.0000, 1.0000, 1.0000, 1.0000, 1.0000,\n",
            "        1.0000, 1.0000, 1.0000, 1.0000, 1.0000, 1.0000, 1.0000, 1.0000, 1.0000,\n",
            "        1.0000])\n"
          ]
        }
      ]
    },
    {
      "cell_type": "markdown",
      "source": [
        "Now let us use the easier method than this as pytorch provides this feature directly to create Neural Net layers suing the NN"
      ],
      "metadata": {
        "id": "ZqvgpwUEjZJF"
      }
    },
    {
      "cell_type": "code",
      "source": [
        "from torch import nn"
      ],
      "metadata": {
        "id": "NmAdaDyxbVtz"
      },
      "execution_count": 23,
      "outputs": []
    },
    {
      "cell_type": "code",
      "source": [
        "class Net(nn.Module):\n",
        "  def __init__(self):\n",
        "     super().__init__()\n",
        "\n",
        "     self.hidden = nn.Linear(784,256)\n",
        "     self.output = nn.Linear(256,10)\n",
        "\n",
        "     self.sigmoid = nn.Sigmoid()\n",
        "     self.softmax = nn.Softmax(dim=1)\n",
        "\n",
        "  def forward(self,x):\n",
        "    x=self.hidden(x)\n",
        "    x=self.sigmoid(x)\n",
        "    x= self.output(x)\n",
        "    x=self.softmax(x)\n",
        "    return(x)\n",
        "\n",
        ""
      ],
      "metadata": {
        "id": "W3o8H8N3jtYU"
      },
      "execution_count": 30,
      "outputs": []
    },
    {
      "cell_type": "code",
      "source": [
        "model = Net()"
      ],
      "metadata": {
        "id": "cn38XNRVlDjO"
      },
      "execution_count": 31,
      "outputs": []
    },
    {
      "cell_type": "code",
      "source": [
        "model"
      ],
      "metadata": {
        "colab": {
          "base_uri": "https://localhost:8080/"
        },
        "id": "ACgiNvBwp12R",
        "outputId": "15842bd7-fab2-4a48-ceec-764772518eeb"
      },
      "execution_count": 32,
      "outputs": [
        {
          "output_type": "execute_result",
          "data": {
            "text/plain": [
              "Net(\n",
              "  (hidden): Linear(in_features=784, out_features=256, bias=True)\n",
              "  (output): Linear(in_features=256, out_features=10, bias=True)\n",
              "  (sigmoid): Sigmoid()\n",
              "  (softmax): Softmax(dim=1)\n",
              ")"
            ]
          },
          "metadata": {},
          "execution_count": 32
        }
      ]
    },
    {
      "cell_type": "code",
      "source": [],
      "metadata": {
        "id": "7ksKxs50qHEl"
      },
      "execution_count": null,
      "outputs": []
    }
  ]
}