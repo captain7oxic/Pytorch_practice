{
  "nbformat": 4,
  "nbformat_minor": 0,
  "metadata": {
    "colab": {
      "provenance": [],
      "authorship_tag": "ABX9TyNKFN/LMEG6mTOTerX/B+TV",
      "include_colab_link": true
    },
    "kernelspec": {
      "name": "python3",
      "display_name": "Python 3"
    },
    "language_info": {
      "name": "python"
    }
  },
  "cells": [
    {
      "cell_type": "markdown",
      "metadata": {
        "id": "view-in-github",
        "colab_type": "text"
      },
      "source": [
        "<a href=\"https://colab.research.google.com/github/captain7oxic/Pytorch_practice/blob/main/DeeLearning_part_3.ipynb\" target=\"_parent\"><img src=\"https://colab.research.google.com/assets/colab-badge.svg\" alt=\"Open In Colab\"/></a>"
      ]
    },
    {
      "cell_type": "markdown",
      "source": [
        "In this notebook we will try to calculate loss as well as implement back-propogation of a neural network using pytorch."
      ],
      "metadata": {
        "id": "f5Vjqy9Par6y"
      }
    },
    {
      "cell_type": "code",
      "source": [
        "!wget -c https://raw.githubusercontent.com/udacity/deep-learning-v2-pytorch/master/intro-to-pytorch/helper.py\n"
      ],
      "metadata": {
        "colab": {
          "base_uri": "https://localhost:8080/"
        },
        "id": "VtRfocIFAO_7",
        "outputId": "e5a03207-231d-4ea8-9c20-e936f456bdaf"
      },
      "execution_count": 1,
      "outputs": [
        {
          "output_type": "stream",
          "name": "stdout",
          "text": [
            "--2023-06-16 07:00:31--  https://raw.githubusercontent.com/udacity/deep-learning-v2-pytorch/master/intro-to-pytorch/helper.py\n",
            "Resolving raw.githubusercontent.com (raw.githubusercontent.com)... 185.199.108.133, 185.199.109.133, 185.199.110.133, ...\n",
            "Connecting to raw.githubusercontent.com (raw.githubusercontent.com)|185.199.108.133|:443... connected.\n",
            "HTTP request sent, awaiting response... 416 Range Not Satisfiable\n",
            "\n",
            "    The file is already fully retrieved; nothing to do.\n",
            "\n"
          ]
        }
      ]
    },
    {
      "cell_type": "code",
      "source": [
        "#importing the data\n",
        "from six.moves import urllib\n",
        "opener = urllib.request.build_opener()\n",
        "opener.addheaders = [('User-agent', 'Mozilla/5.0')]\n",
        "urllib.request.install_opener(opener)"
      ],
      "metadata": {
        "id": "4P34btx2a7a1"
      },
      "execution_count": 2,
      "outputs": []
    },
    {
      "cell_type": "code",
      "source": [
        "import torch\n",
        "from torch import nn\n",
        "import torch.nn.functional as F\n",
        "from torchvision import datasets, transforms"
      ],
      "metadata": {
        "id": "jqrHN3WfbuTU"
      },
      "execution_count": 3,
      "outputs": []
    },
    {
      "cell_type": "code",
      "source": [
        "#define a Transform to Normalize the data\n",
        "transform = transforms.Compose([transforms.ToTensor(),transforms.Normalize((0.5),(0.5)),])"
      ],
      "metadata": {
        "id": "br6CPzt5bzH9"
      },
      "execution_count": 4,
      "outputs": []
    },
    {
      "cell_type": "code",
      "source": [
        "#collecting all the data and running the normalization on entire data\n",
        "trainset = datasets.MNIST('~/.pytorch/MNIST_data/',download=True,train=True,transform = transform)"
      ],
      "metadata": {
        "id": "v4nGomplcuvd"
      },
      "execution_count": 5,
      "outputs": []
    },
    {
      "cell_type": "code",
      "source": [
        "#defining the batchsize and shuffling the data in the loader\n",
        "loader  = torch.utils.data.DataLoader(trainset,batch_size = 64,shuffle = True)"
      ],
      "metadata": {
        "id": "b79AiprbcoQF"
      },
      "execution_count": 6,
      "outputs": []
    },
    {
      "cell_type": "code",
      "source": [
        "#creating a feed-forward Neural Network\n",
        "\n",
        "Net = nn.Sequential(\n",
        "    nn.Linear(784,128),\n",
        "    nn.ReLU(),\n",
        "    nn.Linear(128,64),\n",
        "    nn.ReLU(),\n",
        "    nn.Linear(64,10)\n",
        ")"
      ],
      "metadata": {
        "id": "RKbSkMvJfe8Q"
      },
      "execution_count": 7,
      "outputs": []
    },
    {
      "cell_type": "code",
      "source": [
        "#define our loss\n",
        "loss = nn.CrossEntropyLoss()"
      ],
      "metadata": {
        "id": "24zDIAFJgqAJ"
      },
      "execution_count": 8,
      "outputs": []
    },
    {
      "cell_type": "markdown",
      "source": [
        "There are many loss functions\n",
        "(1)**Regression Loss Functions**\n",
        "Mean Squared Error Loss\n",
        "\n",
        "Mean Squared Logarithmic Error Loss\n",
        "\n",
        "Mean Absolute Error Loss *italicized text*\n",
        "\n",
        "(2)**Binary Classification Loss Functions**\n",
        "\n",
        "Binary Cross-Entropy\n",
        "\n",
        "Hinge Loss\n",
        "\n",
        "Squared Hinge Loss *italicized text*\n",
        "\n",
        "(3)**Multi-Class Classification Loss Functions**\n",
        "\n",
        "Multi-Class Cross-Entropy Loss\n",
        "\n",
        "Sparse Multiclass Cross-Entropy Loss\n",
        "\n",
        "Kullback Leibler Divergence Loss *italicized text*"
      ],
      "metadata": {
        "id": "NUJS20A7hkDa"
      }
    },
    {
      "cell_type": "code",
      "source": [
        "#iterate over the data\n",
        "data_iter = iter(loader)\n",
        "\n",
        "images,labels = next(data_iter)"
      ],
      "metadata": {
        "id": "7yjyHKqthE6b"
      },
      "execution_count": 9,
      "outputs": []
    },
    {
      "cell_type": "code",
      "source": [
        "#flatten the images\n",
        "images = images.view(images.shape[0],-1)"
      ],
      "metadata": {
        "id": "rOmjegF-jmF3"
      },
      "execution_count": 10,
      "outputs": []
    },
    {
      "cell_type": "code",
      "source": [
        "# Forward pass, get our logits\n",
        "logits = Net(images)"
      ],
      "metadata": {
        "id": "TGJVKnXblSwk"
      },
      "execution_count": 11,
      "outputs": []
    },
    {
      "cell_type": "code",
      "source": [
        "total_loss=loss(logits,labels)\n",
        "print(total_loss)"
      ],
      "metadata": {
        "colab": {
          "base_uri": "https://localhost:8080/"
        },
        "id": "bxyyJilSlTsr",
        "outputId": "5cf27abb-1cd7-4166-bfde-6f995596c078"
      },
      "execution_count": 12,
      "outputs": [
        {
          "output_type": "stream",
          "name": "stdout",
          "text": [
            "tensor(2.3001, grad_fn=<NllLossBackward0>)\n"
          ]
        }
      ]
    },
    {
      "cell_type": "markdown",
      "source": [
        "Exercise: Build a model that returns the log-softmax as the output and calculate the loss using the negative log likelihood loss. Note that for nn.LogSoftmax and F.log_softmax you'll need to set the dim keyword argument appropriately. dim=0 calculates softmax across the rows, so each column sums to 1, while dim=1 calculates across the columns so each row sums to 1. Think about what you want the output to be and choose dim appropriately."
      ],
      "metadata": {
        "id": "ovkiYRIKvBNU"
      }
    },
    {
      "cell_type": "code",
      "source": [
        "from torch.nn.modules.activation import LogSoftmax\n",
        "# TODO: Build a feed-forward network\n",
        "model = nn.Sequential(\n",
        "    nn.Linear(784,128),\n",
        "    nn.ReLU(),\n",
        "    nn.Linear(128,64),\n",
        "    nn.ReLU(),\n",
        "    nn.Linear(64,10),\n",
        "    nn.LogSoftmax(dim=1)\n",
        ")\n",
        "\n",
        "# TODO: Define the loss\n",
        "criterion = nn.NLLLoss()\n",
        "\n",
        "### Run this to check your work\n",
        "# Get our data\n",
        "dataiter = iter(loader)\n",
        "\n",
        "images, labels = next(dataiter)\n",
        "\n",
        "# Flatten images\n",
        "images = images.view(images.shape[0], -1)\n",
        "\n",
        "# Forward pass, get our logits\n",
        "logits = model(images)\n",
        "# Calculate the loss with the logits and the labels\n",
        "loss = criterion(logits, labels)\n",
        "\n",
        "print(loss)"
      ],
      "metadata": {
        "colab": {
          "base_uri": "https://localhost:8080/"
        },
        "id": "MeMbz5rUp98W",
        "outputId": "5b195694-8e63-4f8c-ae45-0a9b76963ac1"
      },
      "execution_count": 13,
      "outputs": [
        {
          "output_type": "stream",
          "name": "stdout",
          "text": [
            "tensor(2.3188, grad_fn=<NllLossBackward0>)\n"
          ]
        }
      ]
    },
    {
      "cell_type": "markdown",
      "source": [
        "clearly the loss is reduced in this example , now we will try to use AutoGrad . Autograd typically stores the trace of calculations happening over the tensor , which helps to make the chained derivatives calculations faster."
      ],
      "metadata": {
        "id": "suw2y7mav23_"
      }
    },
    {
      "cell_type": "code",
      "source": [
        "x = torch.randn(2,2, requires_grad=True)\n",
        "print(x)"
      ],
      "metadata": {
        "colab": {
          "base_uri": "https://localhost:8080/"
        },
        "id": "5MSht5nJvvuF",
        "outputId": "5709f78d-8283-4ea6-a1b4-73443b8f60ce"
      },
      "execution_count": 14,
      "outputs": [
        {
          "output_type": "stream",
          "name": "stdout",
          "text": [
            "tensor([[-0.2801,  0.0701],\n",
            "        [ 0.4115, -0.7776]], requires_grad=True)\n"
          ]
        }
      ]
    },
    {
      "cell_type": "code",
      "source": [
        "y = x**2\n",
        "print(y)"
      ],
      "metadata": {
        "colab": {
          "base_uri": "https://localhost:8080/"
        },
        "id": "A7-jupNFwmBe",
        "outputId": "f296e6cc-3561-406c-c065-7e0f003bbcb2"
      },
      "execution_count": 15,
      "outputs": [
        {
          "output_type": "stream",
          "name": "stdout",
          "text": [
            "tensor([[0.0784, 0.0049],\n",
            "        [0.1693, 0.6047]], grad_fn=<PowBackward0>)\n"
          ]
        }
      ]
    },
    {
      "cell_type": "code",
      "source": [
        "## grad_fn shows the function that generated this variable\n",
        "print(y.grad_fn)"
      ],
      "metadata": {
        "colab": {
          "base_uri": "https://localhost:8080/"
        },
        "id": "GRsauPRHwqVD",
        "outputId": "e50f3712-c93e-4633-97be-2232318c6320"
      },
      "execution_count": 16,
      "outputs": [
        {
          "output_type": "stream",
          "name": "stdout",
          "text": [
            "<PowBackward0 object at 0x7f4fc0d08250>\n"
          ]
        }
      ]
    },
    {
      "cell_type": "code",
      "source": [
        "z= y.mean()"
      ],
      "metadata": {
        "id": "YNTiY5X0wtb3"
      },
      "execution_count": 17,
      "outputs": []
    },
    {
      "cell_type": "code",
      "source": [
        "z.backward()\n",
        "print(x.grad)\n",
        "print(x/2)"
      ],
      "metadata": {
        "colab": {
          "base_uri": "https://localhost:8080/"
        },
        "id": "MW4JAnTS7CaR",
        "outputId": "2ba93ba3-d342-48ab-c567-4311a5cfa135"
      },
      "execution_count": 18,
      "outputs": [
        {
          "output_type": "stream",
          "name": "stdout",
          "text": [
            "tensor([[-0.1400,  0.0350],\n",
            "        [ 0.2058, -0.3888]])\n",
            "tensor([[-0.1400,  0.0350],\n",
            "        [ 0.2058, -0.3888]], grad_fn=<DivBackward0>)\n"
          ]
        }
      ]
    },
    {
      "cell_type": "code",
      "source": [
        "#now lets use Autograd and Loss functions together"
      ],
      "metadata": {
        "id": "wBDesiCy7DTe"
      },
      "execution_count": 19,
      "outputs": []
    },
    {
      "cell_type": "code",
      "source": [
        "model = nn.Sequential(\n",
        "    nn.Linear(784,128),\n",
        "    nn.ReLU(),\n",
        "    nn.Linear(128,64),\n",
        "    nn.ReLU(),\n",
        "    nn.Linear(64,10),\n",
        "    nn.LogSoftmax(dim=1)\n",
        ")\n",
        "\n",
        "criterion = nn.NLLLoss()\n",
        "\n",
        "dataiter = iter(loader)\n",
        "images, labels = next(dataiter)\n",
        "images = images.view(images.shape[0], -1)\n",
        "\n",
        "logits = model(images)\n",
        "loss = criterion(logits,labels)"
      ],
      "metadata": {
        "id": "cTvfheJm8Lc7"
      },
      "execution_count": 20,
      "outputs": []
    },
    {
      "cell_type": "code",
      "source": [
        "loss"
      ],
      "metadata": {
        "colab": {
          "base_uri": "https://localhost:8080/"
        },
        "id": "T8LHOU0V858_",
        "outputId": "db92676c-61ce-45c3-fc74-dc4e38184c39"
      },
      "execution_count": 21,
      "outputs": [
        {
          "output_type": "execute_result",
          "data": {
            "text/plain": [
              "tensor(2.3036, grad_fn=<NllLossBackward0>)"
            ]
          },
          "metadata": {},
          "execution_count": 21
        }
      ]
    },
    {
      "cell_type": "code",
      "source": [
        "print('Before backward pass: \\n', model[0].weight.grad)\n",
        "\n",
        "loss.backward()\n",
        "\n",
        "print('After backward pass: \\n', model[0].weight.grad)"
      ],
      "metadata": {
        "colab": {
          "base_uri": "https://localhost:8080/"
        },
        "id": "UPi3kZKR9lbp",
        "outputId": "3a91db5c-a3ae-441b-bc29-d18213edc9cb"
      },
      "execution_count": 22,
      "outputs": [
        {
          "output_type": "stream",
          "name": "stdout",
          "text": [
            "Before backward pass: \n",
            " None\n",
            "After backward pass: \n",
            " tensor([[-0.0018, -0.0018, -0.0018,  ..., -0.0018, -0.0018, -0.0018],\n",
            "        [-0.0004, -0.0004, -0.0004,  ..., -0.0004, -0.0004, -0.0004],\n",
            "        [ 0.0030,  0.0030,  0.0030,  ...,  0.0030,  0.0030,  0.0030],\n",
            "        ...,\n",
            "        [-0.0003, -0.0003, -0.0003,  ..., -0.0003, -0.0003, -0.0003],\n",
            "        [ 0.0016,  0.0016,  0.0016,  ...,  0.0016,  0.0016,  0.0016],\n",
            "        [ 0.0000,  0.0000,  0.0000,  ...,  0.0000,  0.0000,  0.0000]])\n"
          ]
        }
      ]
    },
    {
      "cell_type": "markdown",
      "source": [
        "For The garnish we have the Optim package of the pytorch library to enable Gradient descent calculations on the network."
      ],
      "metadata": {
        "id": "Q9ZW5fYW_ZOU"
      }
    },
    {
      "cell_type": "code",
      "source": [
        "from torch import optim"
      ],
      "metadata": {
        "id": "ekX3hvCm9tV8"
      },
      "execution_count": 23,
      "outputs": []
    },
    {
      "cell_type": "code",
      "source": [
        "optimizer = optim.SGD(model.parameters(), lr=0.01)"
      ],
      "metadata": {
        "id": "sIW5GMZN_oCZ"
      },
      "execution_count": 24,
      "outputs": []
    },
    {
      "cell_type": "code",
      "source": [
        "print('Initial weights - ', model[0].weight)"
      ],
      "metadata": {
        "colab": {
          "base_uri": "https://localhost:8080/"
        },
        "id": "onM3bNcV_vKD",
        "outputId": "da9b3e30-dbd4-4d43-b4e3-c4de955c25f0"
      },
      "execution_count": 25,
      "outputs": [
        {
          "output_type": "stream",
          "name": "stdout",
          "text": [
            "Initial weights -  Parameter containing:\n",
            "tensor([[ 0.0179,  0.0143,  0.0338,  ..., -0.0165, -0.0240,  0.0092],\n",
            "        [ 0.0103, -0.0148,  0.0197,  ..., -0.0108,  0.0155, -0.0209],\n",
            "        [-0.0139,  0.0081,  0.0344,  ..., -0.0253, -0.0107, -0.0061],\n",
            "        ...,\n",
            "        [ 0.0210, -0.0138,  0.0352,  ...,  0.0061,  0.0063,  0.0173],\n",
            "        [ 0.0147, -0.0035,  0.0229,  ..., -0.0002,  0.0223, -0.0139],\n",
            "        [ 0.0285,  0.0159, -0.0350,  ...,  0.0329, -0.0131, -0.0216]],\n",
            "       requires_grad=True)\n"
          ]
        }
      ]
    },
    {
      "cell_type": "code",
      "source": [
        "dataiter = iter(loader)\n",
        "images,labels = next(dataiter)\n",
        "images = images.resize(64,784)\n",
        "\n",
        "\n",
        "# Clear the gradients, do this because gradients are accumulated\n",
        "optimizer.zero_grad()\n",
        "\n",
        "output =  model(images)\n",
        "loss = criterion(output,labels)\n",
        "loss.backward()\n",
        "print('gradient - ', model[0].weight.grad)"
      ],
      "metadata": {
        "id": "ESD3CbYE_yAJ",
        "colab": {
          "base_uri": "https://localhost:8080/"
        },
        "outputId": "96a3f9b0-ec68-4710-ddaa-8f31dd9538eb"
      },
      "execution_count": 26,
      "outputs": [
        {
          "output_type": "stream",
          "name": "stdout",
          "text": [
            "gradient -  tensor([[-0.0015, -0.0015, -0.0015,  ..., -0.0015, -0.0015, -0.0015],\n",
            "        [-0.0010, -0.0010, -0.0010,  ..., -0.0010, -0.0010, -0.0010],\n",
            "        [ 0.0022,  0.0022,  0.0022,  ...,  0.0022,  0.0022,  0.0022],\n",
            "        ...,\n",
            "        [-0.0010, -0.0010, -0.0010,  ..., -0.0010, -0.0010, -0.0010],\n",
            "        [ 0.0006,  0.0006,  0.0006,  ...,  0.0006,  0.0006,  0.0006],\n",
            "        [ 0.0000,  0.0000,  0.0000,  ...,  0.0000,  0.0000,  0.0000]])\n"
          ]
        },
        {
          "output_type": "stream",
          "name": "stderr",
          "text": [
            "/usr/local/lib/python3.10/dist-packages/torch/_tensor.py:775: UserWarning: non-inplace resize is deprecated\n",
            "  warnings.warn(\"non-inplace resize is deprecated\")\n"
          ]
        }
      ]
    },
    {
      "cell_type": "code",
      "source": [
        "# Take an update step and view the new weights\n",
        "optimizer.step()\n",
        "print('Updated weights - ', model[0].weight)"
      ],
      "metadata": {
        "colab": {
          "base_uri": "https://localhost:8080/"
        },
        "id": "TS_GBFZrxirm",
        "outputId": "b8703d16-d968-47a6-8463-24220671d9d2"
      },
      "execution_count": 27,
      "outputs": [
        {
          "output_type": "stream",
          "name": "stdout",
          "text": [
            "Updated weights -  Parameter containing:\n",
            "tensor([[ 0.0179,  0.0143,  0.0338,  ..., -0.0165, -0.0240,  0.0092],\n",
            "        [ 0.0103, -0.0148,  0.0197,  ..., -0.0108,  0.0155, -0.0209],\n",
            "        [-0.0139,  0.0081,  0.0344,  ..., -0.0254, -0.0108, -0.0061],\n",
            "        ...,\n",
            "        [ 0.0210, -0.0138,  0.0352,  ...,  0.0061,  0.0063,  0.0173],\n",
            "        [ 0.0147, -0.0035,  0.0229,  ..., -0.0002,  0.0223, -0.0139],\n",
            "        [ 0.0285,  0.0159, -0.0350,  ...,  0.0329, -0.0131, -0.0216]],\n",
            "       requires_grad=True)\n"
          ]
        }
      ]
    },
    {
      "cell_type": "markdown",
      "source": [
        "Implement the training pass for our network. If you implemented it correctly, you should see the training loss drop with each epoch."
      ],
      "metadata": {
        "id": "3DGZro5N6dyp"
      }
    },
    {
      "cell_type": "code",
      "source": [
        "model = nn.Sequential(\n",
        "    nn.Linear(784,128),\n",
        "    nn.ReLU(),\n",
        "    nn.Linear(128,64),\n",
        "    nn.ReLU(),\n",
        "    nn.Linear(64,10),\n",
        "    nn.LogSoftmax(dim=1))\n",
        "\n",
        "criterion = nn.NLLLoss()\n",
        "\n",
        "optimizer = optim.SGD(model.parameters(),lr=0.3)\n",
        "epochs = 5\n",
        "\n",
        "for e in range(epochs):\n",
        "  running_loss = 0\n",
        "  for images,labels in loader:\n",
        "  #flatten\n",
        "    images = images.view(images.shape[0],-1)\n",
        "\n",
        "    #remove accumulated gradients\n",
        "    optimizer.zero_grad()\n",
        "\n",
        "\n",
        "    #loss\n",
        "    output = model(images)\n",
        "    loss= criterion(output,labels)\n",
        "    loss.backward()\n",
        "    optimizer.step()\n",
        "    running_loss+=loss.item()\n",
        "  else:\n",
        "          print(f\"Training loss: {running_loss/len(loader)}\")"
      ],
      "metadata": {
        "colab": {
          "base_uri": "https://localhost:8080/"
        },
        "id": "38AT2ff0yCiF",
        "outputId": "b7b10fa3-54db-45fd-d657-4a6edabfa12d"
      },
      "execution_count": 28,
      "outputs": [
        {
          "output_type": "stream",
          "name": "stdout",
          "text": [
            "Training loss: 1.8224720779512482\n",
            "Training loss: 0.9748743534850668\n",
            "Training loss: 0.6002745570054949\n",
            "Training loss: 0.5268741858634614\n",
            "Training loss: 0.6233894656747897\n"
          ]
        }
      ]
    },
    {
      "cell_type": "code",
      "source": [
        "%matplotlib inline\n",
        "import helper\n",
        "\n",
        "images, labels = next(iter(loader))\n",
        "\n",
        "img = images[0].view(1, 784)\n",
        "# Turn off gradients to speed up this part\n",
        "with torch.no_grad():\n",
        "    logps = model(img)\n",
        "\n",
        "# Output of the network are log-probabilities, need to take exponential for probabilities\n",
        "ps = torch.exp(logps)\n",
        "helper.view_classify(img.view(1, 28, 28), ps)"
      ],
      "metadata": {
        "colab": {
          "base_uri": "https://localhost:8080/",
          "height": 345
        },
        "id": "H9PwoPke9h3N",
        "outputId": "edfb4bf1-0d09-4aa9-9887-03e79f7c50b8"
      },
      "execution_count": 31,
      "outputs": [
        {
          "output_type": "display_data",
          "data": {
            "text/plain": [
              "<Figure size 600x900 with 2 Axes>"
            ],
            "image/png": "[encoded data removed]"
          },
          "metadata": {}
        }
      ]
    },
    {
      "cell_type": "code",
      "source": [],
      "metadata": {
        "id": "Ml6PaQnd_2L3"
      },
      "execution_count": 29,
      "outputs": []
    }
  ]
}