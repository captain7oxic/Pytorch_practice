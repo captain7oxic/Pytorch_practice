{
  "nbformat": 4,
  "nbformat_minor": 0,
  "metadata": {
    "colab": {
      "provenance": [],
      "authorship_tag": "ABX9TyO8z9nZIa6titqaUhANy9Je",
      "include_colab_link": true
    },
    "kernelspec": {
      "name": "python3",
      "display_name": "Python 3"
    },
    "language_info": {
      "name": "python"
    }
  },
  "cells": [
    {
      "cell_type": "markdown",
      "metadata": {
        "id": "view-in-github",
        "colab_type": "text"
      },
      "source": [
        "<a href=\"https://colab.research.google.com/github/captain7oxic/Pytorch_practice/blob/main/DeeLearning_part_3.ipynb\" target=\"_parent\"><img src=\"https://colab.research.google.com/assets/colab-badge.svg\" alt=\"Open In Colab\"/></a>"
      ]
    },
    {
      "cell_type": "markdown",
      "source": [
        "In this notebook we will try to calculate loss as well as implement back-propogation of a neural network using pytorch."
      ],
      "metadata": {
        "id": "f5Vjqy9Par6y"
      }
    },
    {
      "cell_type": "code",
      "source": [
        "#importing the data\n",
        "from six.moves import urllib\n",
        "opener = urllib.request.build_opener()\n",
        "opener.addheaders = [('User-agent', 'Mozilla/5.0')]\n",
        "urllib.request.install_opener(opener)"
      ],
      "metadata": {
        "id": "4P34btx2a7a1"
      },
      "execution_count": 1,
      "outputs": []
    },
    {
      "cell_type": "code",
      "source": [
        "import torch\n",
        "from torch import nn\n",
        "import torch.nn.functional as F\n",
        "from torchvision import datasets, transforms"
      ],
      "metadata": {
        "id": "jqrHN3WfbuTU"
      },
      "execution_count": 2,
      "outputs": []
    },
    {
      "cell_type": "code",
      "source": [
        "#define a Transform to Normalize the data\n",
        "transform = transforms.Compose([transforms.ToTensor(),transforms.Normalize((0.5),(0.5)),])"
      ],
      "metadata": {
        "id": "br6CPzt5bzH9"
      },
      "execution_count": 4,
      "outputs": []
    },
    {
      "cell_type": "code",
      "source": [
        "#collecting all the data and running the normalization on entire data\n",
        "trainset = datasets.MNIST('~/.pytorch/MNIST_data/',download=True,train=True,transform = transform)"
      ],
      "metadata": {
        "colab": {
          "base_uri": "https://localhost:8080/"
        },
        "id": "v4nGomplcuvd",
        "outputId": "7c99bfc8-fa91-476f-b6c2-20fb9211ec45"
      },
      "execution_count": 6,
      "outputs": [
        {
          "output_type": "stream",
          "name": "stdout",
          "text": [
            "Downloading http://yann.lecun.com/exdb/mnist/train-images-idx3-ubyte.gz\n",
            "Downloading http://yann.lecun.com/exdb/mnist/train-images-idx3-ubyte.gz to /root/.pytorch/MNIST_data/MNIST/raw/train-images-idx3-ubyte.gz\n"
          ]
        },
        {
          "output_type": "stream",
          "name": "stderr",
          "text": [
            "100%|██████████| 9912422/9912422 [00:00<00:00, 105060005.72it/s]\n"
          ]
        },
        {
          "output_type": "stream",
          "name": "stdout",
          "text": [
            "Extracting /root/.pytorch/MNIST_data/MNIST/raw/train-images-idx3-ubyte.gz to /root/.pytorch/MNIST_data/MNIST/raw\n",
            "\n",
            "Downloading http://yann.lecun.com/exdb/mnist/train-labels-idx1-ubyte.gz\n",
            "Downloading http://yann.lecun.com/exdb/mnist/train-labels-idx1-ubyte.gz to /root/.pytorch/MNIST_data/MNIST/raw/train-labels-idx1-ubyte.gz\n"
          ]
        },
        {
          "output_type": "stream",
          "name": "stderr",
          "text": [
            "100%|██████████| 28881/28881 [00:00<00:00, 19270711.71it/s]"
          ]
        },
        {
          "output_type": "stream",
          "name": "stdout",
          "text": [
            "Extracting /root/.pytorch/MNIST_data/MNIST/raw/train-labels-idx1-ubyte.gz to /root/.pytorch/MNIST_data/MNIST/raw\n",
            "\n",
            "Downloading http://yann.lecun.com/exdb/mnist/t10k-images-idx3-ubyte.gz\n"
          ]
        },
        {
          "output_type": "stream",
          "name": "stderr",
          "text": [
            "\n"
          ]
        },
        {
          "output_type": "stream",
          "name": "stdout",
          "text": [
            "Downloading http://yann.lecun.com/exdb/mnist/t10k-images-idx3-ubyte.gz to /root/.pytorch/MNIST_data/MNIST/raw/t10k-images-idx3-ubyte.gz\n"
          ]
        },
        {
          "output_type": "stream",
          "name": "stderr",
          "text": [
            "100%|██████████| 1648877/1648877 [00:00<00:00, 25964744.30it/s]"
          ]
        },
        {
          "output_type": "stream",
          "name": "stdout",
          "text": [
            "Extracting /root/.pytorch/MNIST_data/MNIST/raw/t10k-images-idx3-ubyte.gz to /root/.pytorch/MNIST_data/MNIST/raw\n",
            "\n",
            "Downloading http://yann.lecun.com/exdb/mnist/t10k-labels-idx1-ubyte.gz\n"
          ]
        },
        {
          "output_type": "stream",
          "name": "stderr",
          "text": [
            "\n"
          ]
        },
        {
          "output_type": "stream",
          "name": "stdout",
          "text": [
            "Downloading http://yann.lecun.com/exdb/mnist/t10k-labels-idx1-ubyte.gz to /root/.pytorch/MNIST_data/MNIST/raw/t10k-labels-idx1-ubyte.gz\n"
          ]
        },
        {
          "output_type": "stream",
          "name": "stderr",
          "text": [
            "100%|██████████| 4542/4542 [00:00<00:00, 8906278.06it/s]\n"
          ]
        },
        {
          "output_type": "stream",
          "name": "stdout",
          "text": [
            "Extracting /root/.pytorch/MNIST_data/MNIST/raw/t10k-labels-idx1-ubyte.gz to /root/.pytorch/MNIST_data/MNIST/raw\n",
            "\n"
          ]
        }
      ]
    },
    {
      "cell_type": "code",
      "source": [
        "#defining the batchsize and shuffling the data in the loader\n",
        "loader  = torch.utils.data.DataLoader(trainset,batch_size = 64,shuffle = True)"
      ],
      "metadata": {
        "id": "b79AiprbcoQF"
      },
      "execution_count": 8,
      "outputs": []
    },
    {
      "cell_type": "code",
      "source": [
        "#creating a feed-forward Neural Network\n",
        "\n",
        "Net = nn.Sequential(\n",
        "    nn.Linear(784,128),\n",
        "    nn.ReLU(),\n",
        "    nn.Linear(128,64),\n",
        "    nn.ReLU(),\n",
        "    nn.Linear(64,10)\n",
        ")"
      ],
      "metadata": {
        "id": "RKbSkMvJfe8Q"
      },
      "execution_count": 11,
      "outputs": []
    },
    {
      "cell_type": "code",
      "source": [
        "#define our loss\n",
        "loss = nn.CrossEntropyLoss()"
      ],
      "metadata": {
        "id": "24zDIAFJgqAJ"
      },
      "execution_count": 12,
      "outputs": []
    },
    {
      "cell_type": "markdown",
      "source": [
        "There are many loss functions\n",
        "(1)**Regression Loss Functions**\n",
        "Mean Squared Error Loss\n",
        "\n",
        "Mean Squared Logarithmic Error Loss\n",
        "\n",
        "Mean Absolute Error Loss *italicized text*\n",
        "\n",
        "(2)**Binary Classification Loss Functions**\n",
        "\n",
        "Binary Cross-Entropy\n",
        "\n",
        "Hinge Loss\n",
        "\n",
        "Squared Hinge Loss *italicized text*\n",
        "\n",
        "(3)**Multi-Class Classification Loss Functions**\n",
        "\n",
        "Multi-Class Cross-Entropy Loss\n",
        "\n",
        "Sparse Multiclass Cross-Entropy Loss\n",
        "\n",
        "Kullback Leibler Divergence Loss *italicized text*"
      ],
      "metadata": {
        "id": "NUJS20A7hkDa"
      }
    },
    {
      "cell_type": "code",
      "source": [
        "#iterate over the data\n",
        "data_iter = iter(loader)\n",
        "\n",
        "images,labels = next(data_iter)"
      ],
      "metadata": {
        "id": "7yjyHKqthE6b"
      },
      "execution_count": 14,
      "outputs": []
    },
    {
      "cell_type": "code",
      "source": [
        "#flatten the images\n",
        "images = images.view(images.shape[0],-1)"
      ],
      "metadata": {
        "id": "rOmjegF-jmF3"
      },
      "execution_count": 15,
      "outputs": []
    },
    {
      "cell_type": "code",
      "source": [
        "# Forward pass, get our logits\n",
        "logits = Net(images)"
      ],
      "metadata": {
        "id": "TGJVKnXblSwk"
      },
      "execution_count": 17,
      "outputs": []
    },
    {
      "cell_type": "code",
      "source": [
        "total_loss=loss(logits,labels)\n",
        "print(total_loss)"
      ],
      "metadata": {
        "colab": {
          "base_uri": "https://localhost:8080/"
        },
        "id": "bxyyJilSlTsr",
        "outputId": "2f02c172-8317-4441-abe3-12f2bc4f60a9"
      },
      "execution_count": 19,
      "outputs": [
        {
          "output_type": "stream",
          "name": "stdout",
          "text": [
            "tensor(2.3158, grad_fn=<NllLossBackward0>)\n"
          ]
        }
      ]
    },
    {
      "cell_type": "markdown",
      "source": [
        "Exercise: Build a model that returns the log-softmax as the output and calculate the loss using the negative log likelihood loss. Note that for nn.LogSoftmax and F.log_softmax you'll need to set the dim keyword argument appropriately. dim=0 calculates softmax across the rows, so each column sums to 1, while dim=1 calculates across the columns so each row sums to 1. Think about what you want the output to be and choose dim appropriately."
      ],
      "metadata": {
        "id": "ovkiYRIKvBNU"
      }
    },
    {
      "cell_type": "code",
      "source": [
        "from torch.nn.modules.activation import LogSoftmax\n",
        "# TODO: Build a feed-forward network\n",
        "model = nn.Sequential(\n",
        "    nn.Linear(784,128),\n",
        "    nn.ReLU(),\n",
        "    nn.Linear(128,64),\n",
        "    nn.LogSoftmax(dim=1),\n",
        "    nn.Linear(64,10)\n",
        ")\n",
        "\n",
        "# TODO: Define the loss\n",
        "criterion = nn.NLLLoss()\n",
        "\n",
        "### Run this to check your work\n",
        "# Get our data\n",
        "dataiter = iter(loader)\n",
        "\n",
        "images, labels = next(dataiter)\n",
        "\n",
        "# Flatten images\n",
        "images = images.view(images.shape[0], -1)\n",
        "\n",
        "# Forward pass, get our logits\n",
        "logits = model(images)\n",
        "# Calculate the loss with the logits and the labels\n",
        "loss = criterion(logits, labels)\n",
        "\n",
        "print(loss)"
      ],
      "metadata": {
        "colab": {
          "base_uri": "https://localhost:8080/"
        },
        "id": "MeMbz5rUp98W",
        "outputId": "a3735d5f-95e3-48b9-8928-f2d8fceb9722"
      },
      "execution_count": 22,
      "outputs": [
        {
          "output_type": "stream",
          "name": "stdout",
          "text": [
            "tensor(-0.5001, grad_fn=<NllLossBackward0>)\n"
          ]
        }
      ]
    },
    {
      "cell_type": "markdown",
      "source": [
        "clearly the loss is reduced in this example , now we will try to use AutoGrad . Autograd typically stores the trace of calculations happening over the tensor , which helps to make the chained derivatives calculations faster."
      ],
      "metadata": {
        "id": "suw2y7mav23_"
      }
    },
    {
      "cell_type": "code",
      "source": [
        "x = torch.randn(2,2, requires_grad=True)\n",
        "print(x)"
      ],
      "metadata": {
        "colab": {
          "base_uri": "https://localhost:8080/"
        },
        "id": "5MSht5nJvvuF",
        "outputId": "9272f498-d45b-44e7-aac9-14ee1be06cce"
      },
      "execution_count": 23,
      "outputs": [
        {
          "output_type": "stream",
          "name": "stdout",
          "text": [
            "tensor([[-0.7793,  1.2771],\n",
            "        [ 0.4286,  0.4775]], requires_grad=True)\n"
          ]
        }
      ]
    },
    {
      "cell_type": "code",
      "source": [
        "y = x**2\n",
        "print(y)"
      ],
      "metadata": {
        "colab": {
          "base_uri": "https://localhost:8080/"
        },
        "id": "A7-jupNFwmBe",
        "outputId": "90b2c693-950c-4ba5-95a2-9f184755bd02"
      },
      "execution_count": 24,
      "outputs": [
        {
          "output_type": "stream",
          "name": "stdout",
          "text": [
            "tensor([[0.6073, 1.6311],\n",
            "        [0.1837, 0.2280]], grad_fn=<PowBackward0>)\n"
          ]
        }
      ]
    },
    {
      "cell_type": "code",
      "source": [
        "## grad_fn shows the function that generated this variable\n",
        "print(y.grad_fn)"
      ],
      "metadata": {
        "colab": {
          "base_uri": "https://localhost:8080/"
        },
        "id": "GRsauPRHwqVD",
        "outputId": "44856c5e-4fdf-4e4d-899d-a46aead94a64"
      },
      "execution_count": 25,
      "outputs": [
        {
          "output_type": "stream",
          "name": "stdout",
          "text": [
            "<PowBackward0 object at 0x7fdef3055720>\n"
          ]
        }
      ]
    },
    {
      "cell_type": "code",
      "source": [
        "z= y.mean()"
      ],
      "metadata": {
        "id": "YNTiY5X0wtb3"
      },
      "execution_count": 26,
      "outputs": []
    },
    {
      "cell_type": "code",
      "source": [
        "z.backward()\n",
        "print(x.grad)\n",
        "print(x/2)"
      ],
      "metadata": {
        "colab": {
          "base_uri": "https://localhost:8080/"
        },
        "id": "MW4JAnTS7CaR",
        "outputId": "29b7fb89-3ddf-4374-ceda-d28beabcdaac"
      },
      "execution_count": 27,
      "outputs": [
        {
          "output_type": "stream",
          "name": "stdout",
          "text": [
            "tensor([[-0.3896,  0.6386],\n",
            "        [ 0.2143,  0.2388]])\n",
            "tensor([[-0.3896,  0.6386],\n",
            "        [ 0.2143,  0.2388]], grad_fn=<DivBackward0>)\n"
          ]
        }
      ]
    },
    {
      "cell_type": "code",
      "source": [
        "#now lets use Autograd and Loss functions together"
      ],
      "metadata": {
        "id": "wBDesiCy7DTe"
      },
      "execution_count": 28,
      "outputs": []
    },
    {
      "cell_type": "code",
      "source": [
        "model = nn.Sequential(\n",
        "    nn.Linear(784,128),\n",
        "    nn.ReLU(),\n",
        "    nn.Linear(128,64),\n",
        "    nn.ReLU(),\n",
        "    nn.Linear(64,10),\n",
        "    nn.LogSoftmax(dim=1)\n",
        ")\n",
        "\n",
        "criterion = nn.NLLLoss()\n",
        "\n",
        "dataiter = iter(loader)\n",
        "images, labels = next(dataiter)\n",
        "images = images.view(images.shape[0], -1)\n",
        "\n",
        "logits = model(images)\n",
        "loss = criterion(logits,labels)"
      ],
      "metadata": {
        "id": "cTvfheJm8Lc7"
      },
      "execution_count": 31,
      "outputs": []
    },
    {
      "cell_type": "code",
      "source": [
        "loss"
      ],
      "metadata": {
        "colab": {
          "base_uri": "https://localhost:8080/"
        },
        "id": "T8LHOU0V858_",
        "outputId": "ad030c4b-55d5-43ac-ba54-7eb2e67a1807"
      },
      "execution_count": 32,
      "outputs": [
        {
          "output_type": "execute_result",
          "data": {
            "text/plain": [
              "tensor(2.3098, grad_fn=<NllLossBackward0>)"
            ]
          },
          "metadata": {},
          "execution_count": 32
        }
      ]
    },
    {
      "cell_type": "code",
      "source": [
        "print('Before backward pass: \\n', model[0].weight.grad)\n",
        "\n",
        "loss.backward()\n",
        "\n",
        "print('After backward pass: \\n', model[0].weight.grad)"
      ],
      "metadata": {
        "colab": {
          "base_uri": "https://localhost:8080/"
        },
        "id": "UPi3kZKR9lbp",
        "outputId": "f2687949-6fda-483f-cf75-704cd1428280"
      },
      "execution_count": 33,
      "outputs": [
        {
          "output_type": "stream",
          "name": "stdout",
          "text": [
            "Before backward pass: \n",
            " None\n",
            "After backward pass: \n",
            " tensor([[-0.0008, -0.0008, -0.0008,  ..., -0.0008, -0.0008, -0.0008],\n",
            "        [ 0.0004,  0.0004,  0.0004,  ...,  0.0004,  0.0004,  0.0004],\n",
            "        [ 0.0000,  0.0000,  0.0000,  ...,  0.0000,  0.0000,  0.0000],\n",
            "        ...,\n",
            "        [ 0.0049,  0.0049,  0.0049,  ...,  0.0049,  0.0049,  0.0049],\n",
            "        [ 0.0010,  0.0010,  0.0010,  ...,  0.0010,  0.0010,  0.0010],\n",
            "        [ 0.0051,  0.0051,  0.0051,  ...,  0.0051,  0.0051,  0.0051]])\n"
          ]
        }
      ]
    },
    {
      "cell_type": "markdown",
      "source": [
        "For The garnish we have the Optim package of the pytorch library to enable Gradient descent calculations on the network."
      ],
      "metadata": {
        "id": "Q9ZW5fYW_ZOU"
      }
    },
    {
      "cell_type": "code",
      "source": [
        "from torch import optim"
      ],
      "metadata": {
        "id": "ekX3hvCm9tV8"
      },
      "execution_count": 34,
      "outputs": []
    },
    {
      "cell_type": "code",
      "source": [
        "optimizer = optim.SGD(model.parameters(), lr=0.01)"
      ],
      "metadata": {
        "id": "sIW5GMZN_oCZ"
      },
      "execution_count": 35,
      "outputs": []
    },
    {
      "cell_type": "code",
      "source": [],
      "metadata": {
        "colab": {
          "base_uri": "https://localhost:8080/"
        },
        "id": "onM3bNcV_vKD",
        "outputId": "c2929f00-2d27-41e2-d401-78501bb40ce3"
      },
      "execution_count": 36,
      "outputs": [
        {
          "output_type": "execute_result",
          "data": {
            "text/plain": [
              "torch.optim.sgd.SGD"
            ]
          },
          "metadata": {},
          "execution_count": 36
        }
      ]
    },
    {
      "cell_type": "code",
      "source": [],
      "metadata": {
        "id": "ESD3CbYE_yAJ"
      },
      "execution_count": null,
      "outputs": []
    }
  ]
}